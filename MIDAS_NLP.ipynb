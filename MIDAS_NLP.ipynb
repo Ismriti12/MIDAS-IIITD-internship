{
 "cells": [
  {
   "cell_type": "markdown",
   "metadata": {},
   "source": [
    "# MIDAS NLP\n"
   ]
  },
  {
   "cell_type": "markdown",
   "metadata": {},
   "source": [
    "# Product categorisation Problem\n",
    "This problem can be solved in many ways, product can be categorised on the basis of brands, ratings, discounts, and the type of product. I would move forward with a approach to identify the product category on the basis of its type classification. This is a case of multi classification problem.\n"
   ]
  },
  {
   "cell_type": "code",
   "execution_count": 2,
   "metadata": {},
   "outputs": [],
   "source": [
    "import numpy as np \n",
    "import pandas as pd \n",
    "import re \n",
    "import nltk \n",
    "from sklearn import preprocessing\n",
    "from sklearn.model_selection import train_test_split\n",
    "from sklearn.feature_extraction.text import CountVectorizer\n",
    "from sklearn.naive_bayes import MultinomialNB\n",
    "from sklearn.metrics import classification_report\n",
    "from sklearn.feature_extraction.text import TfidfVectorizer"
   ]
  },
  {
   "cell_type": "markdown",
   "metadata": {},
   "source": [
    "A function to "
   ]
  },
  {
   "cell_type": "code",
   "execution_count": 3,
   "metadata": {},
   "outputs": [],
   "source": [
    "def preprocess_string(str_arg):\n",
    "    '''\n",
    "    input: str_arg --> Takes string to clean\n",
    "    output: cleaned_str --> Gives back cleaned string\n",
    "    This fuction cleans the text in the mentioned ways as comments after the line.This has been copied from some other kernel.\n",
    "\n",
    "    '''\n",
    "    cleaned_str=re.sub('[^a-z\\s]+',' ',str_arg,flags=re.IGNORECASE) #every char except alphabets is replaced\n",
    "    cleaned_str=re.sub('(\\s+)',' ',cleaned_str) #multiple spaces are replaced by single space\n",
    "    cleaned_str=cleaned_str.lower() #converting the cleaned string to lower case\n",
    "    \n",
    "    return cleaned_str # Returning the preprocessed string in tokenized form"
   ]
  },
  {
   "cell_type": "code",
   "execution_count": 4,
   "metadata": {},
   "outputs": [
    {
     "name": "stdout",
     "output_type": "stream",
     "text": [
      "['Clothing', 'Footwear', 'Beauty and Personal Care', 'Home Decor & Festive Needs', 'Automotive', 'Home Furnishing', 'Mobiles & Accessories', 'Jewellery', 'Kitchen & Dining', 'Computers']\n"
     ]
    }
   ],
   "source": [
    "import_df = pd.read_csv('flipkart_com-ecommerce_sample - flipkart_com-ecommerce_sample - flipkart_com-ecommerce_sample.csv')\n",
    "# Reading relevant data\n",
    "import_df['product_category_tree'] = import_df['product_category_tree'].apply(lambda x : x.split('>>')[0][2:].strip())\n",
    "# Category processing. (Check data to understand)\n",
    "top_fiv_gen = list(import_df.groupby('product_category_tree').count().sort_values(by='uniq_id',ascending=False).head(10).index)\n",
    "# Taking only top 5 categories for example sake\n",
    "processed_df = import_df[import_df['product_category_tree'].isin(top_fiv_gen)][['product_category_tree','description']]\n",
    "# Selecting only relevant columns\n",
    "processed_df['description'] = processed_df['description'].astype('str').apply(preprocess_string)\n",
    "# Cleaning strings\n",
    "cat_list = list(processed_df['product_category_tree'].unique())\n",
    "# Creating a list of categories for later use\n",
    "print(cat_list)\n",
    "# Printing the list of top 5 categories\n",
    "le = preprocessing.LabelEncoder()\n",
    "category_encoded=le.fit_transform(processed_df['product_category_tree'])\n",
    "processed_df['product_category_tree'] = category_encoded\n",
    "# Encoding the product categor"
   ]
  },
  {
   "cell_type": "code",
   "execution_count": 5,
   "metadata": {},
   "outputs": [],
   "source": [
    "X_train, X_test, y_train, y_test = train_test_split(processed_df['description'],processed_df['product_category_tree'],test_size=0.2)\n"
   ]
  },
  {
   "cell_type": "code",
   "execution_count": 6,
   "metadata": {},
   "outputs": [],
   "source": [
    "vect = CountVectorizer(stop_words = 'english')\n",
    "# Removing stop words\n",
    "X_train_matrix = vect.fit_transform(X_train) \n",
    "# Converting the train data"
   ]
  },
  {
   "cell_type": "code",
   "execution_count": 7,
   "metadata": {},
   "outputs": [
    {
     "name": "stdout",
     "output_type": "stream",
     "text": [
      "0.9800811785929044\n",
      "0.9744514577697625\n",
      "              precision    recall  f1-score   support\n",
      "\n",
      "           0       0.95      1.00      0.97       204\n",
      "           1       0.92      0.95      0.93       152\n",
      "           2       1.00      0.99      1.00      1245\n",
      "           3       0.86      0.80      0.83       101\n",
      "           4       0.99      0.98      0.99       250\n",
      "           5       0.97      0.99      0.98       191\n",
      "           6       0.98      0.98      0.98       129\n",
      "           7       0.96      1.00      0.98       722\n",
      "           8       0.97      0.91      0.94       112\n",
      "           9       0.99      0.87      0.93       221\n",
      "\n",
      "    accuracy                           0.97      3327\n",
      "   macro avg       0.96      0.95      0.95      3327\n",
      "weighted avg       0.97      0.97      0.97      3327\n",
      "\n"
     ]
    }
   ],
   "source": [
    "clf=MultinomialNB()\n",
    "# Defining model\n",
    "clf.fit(X_train_matrix, y_train)\n",
    "# Fitting to multinomial NB model \n",
    "print(clf.score(X_train_matrix, y_train))\n",
    "# Scoring the trained model (Expected to be above 95 percent)\n",
    "X_test_matrix = vect.transform(X_test) \n",
    "# Converting the test data\n",
    "print (clf.score(X_test_matrix, y_test))\n",
    "# Scoring for the test data\n",
    "predicted_result=clf.predict(X_test_matrix)\n",
    "print(classification_report(y_test,predicted_result))\n",
    "# Printing score"
   ]
  },
  {
   "cell_type": "code",
   "execution_count": 8,
   "metadata": {},
   "outputs": [],
   "source": [
    "vectorizer = TfidfVectorizer(stop_words = 'english')\n",
    "# Removing stop words\n",
    "X_train_tfidf = vectorizer.fit_transform(X_train)\n",
    "# Converting the train data"
   ]
  },
  {
   "cell_type": "code",
   "execution_count": 9,
   "metadata": {},
   "outputs": [
    {
     "name": "stdout",
     "output_type": "stream",
     "text": [
      "0.9627931449188214\n",
      "0.9495040577096483\n"
     ]
    }
   ],
   "source": [
    "clf2=MultinomialNB()\n",
    "# Defining model\n",
    "clf2.fit(X_train_tfidf, y_train)\n",
    "# Fitting to multinomial NB model \n",
    "print(clf2.score(X_train_tfidf, y_train))\n",
    "# Scoring the trained model (Expected to be above 95 percent)\n",
    "X_test_tfidf = vectorizer.transform(X_test) \n",
    "# Converting the test data\n",
    "print (clf2.score(X_test_tfidf, y_test))\n",
    "# Printing score"
   ]
  },
  {
   "cell_type": "code",
   "execution_count": 10,
   "metadata": {},
   "outputs": [
    {
     "data": {
      "text/plain": [
       "array(['Automotive'], dtype=object)"
      ]
     },
     "execution_count": 10,
     "metadata": {},
     "output_type": "execute_result"
    }
   ],
   "source": [
    "le.inverse_transform(clf.predict(vect.transform(['car'])))"
   ]
  },
  {
   "cell_type": "code",
   "execution_count": null,
   "metadata": {},
   "outputs": [],
   "source": []
  }
 ],
 "metadata": {
  "kernelspec": {
   "display_name": "Python 3",
   "language": "python",
   "name": "python3"
  },
  "language_info": {
   "codemirror_mode": {
    "name": "ipython",
    "version": 3
   },
   "file_extension": ".py",
   "mimetype": "text/x-python",
   "name": "python",
   "nbconvert_exporter": "python",
   "pygments_lexer": "ipython3",
   "version": "3.7.6"
  }
 },
 "nbformat": 4,
 "nbformat_minor": 4
}
